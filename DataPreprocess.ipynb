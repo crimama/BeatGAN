{
 "cells": [
  {
   "cell_type": "code",
   "execution_count": 1,
   "metadata": {},
   "outputs": [],
   "source": [
    "import os \n",
    "import warnings \n",
    "warnings.filterwarnings('ignore')\n",
    "from glob import glob \n",
    "from tqdm import tqdm \n",
    "import pickle \n",
    "\n",
    "import pandas as pd \n",
    "import numpy as np \n",
    "from sklearn.preprocessing import StandardScaler\n",
    "\n",
    "import torch \n",
    "import torch.nn as nn  \n",
    "from torch import Tensor\n",
    "from torch.utils.data import Dataset,DataLoader \n",
    "\n",
    "from src.Preprocess import df_preprocess,Normalize,split_window,data_aug"
   ]
  },
  {
   "cell_type": "markdown",
   "metadata": {},
   "source": [
    "1. Normalize \n",
    "2. x,y split \n",
    "3. train - valid - test split \n",
    "4. augmentation "
   ]
  },
  {
   "cell_type": "code",
   "execution_count": 5,
   "metadata": {},
   "outputs": [],
   "source": [
    "raw_data = {'train':train_df,\n",
    "            'test':test_df\n",
    "           }\n",
    "with open('./Data/raw_data.pickle', 'wb') as f:\n",
    "    pickle.dump(raw_data, f, pickle.HIGHEST_PROTOCOL)"
   ]
  },
  {
   "cell_type": "code",
   "execution_count": 2,
   "metadata": {},
   "outputs": [
    {
     "name": "stderr",
     "output_type": "stream",
     "text": [
      "100%|██████████| 49635/49635 [00:03<00:00, 14034.59it/s]\n",
      "100%|██████████| 44946/44946 [00:02<00:00, 19949.61it/s]\n",
      "100%|██████████| 49635/49635 [01:17<00:00, 640.76it/s]\n",
      "100%|██████████| 44946/44946 [01:10<00:00, 641.35it/s]\n"
     ]
    }
   ],
   "source": [
    "def data_load(mode='pickle'):\n",
    "    if mode == 'pickle':\n",
    "        with open('./Data/raw_data.pickle', 'rb') as f:\n",
    "            data = pickle.load(f)\n",
    "        train_df = data['train']\n",
    "        test_df = data['test']\n",
    "    else:\n",
    "        train_df = pd.read_excel('./Data/SWaT_Dataset_Normal_v0.xlsx')\n",
    "        test_df = pd.read_excel('./Data/SWaT_Dataset_Attack_v0.xlsx')\n",
    "    return train_df,test_df \n",
    "\n",
    "#train_df,test_df = data_load('raw')\n",
    "train_df,test_df = data_load()\n",
    "#Column, dtype, time sort \n",
    "train = df_preprocess(train_df)\n",
    "test = df_preprocess(test_df)\n",
    "\n",
    "#Normalize\n",
    "train,test  = Normalize(train,test)() # -1 ~ 1 Scaling \n",
    "#window x,y split \n",
    "train_x,train_y = split_window(train) # -140 ~ x_i ~ +180 \n",
    "test_x,test_y = split_window(test)    \n",
    "\n",
    "\n",
    "#augmentation \n",
    "res_train_x,res_train_y = data_aug(train_x,train_y)\n",
    "res_test_x,res_test_y = data_aug(test_x,test_y)\n",
    "#transpose\n",
    "res_train_x = res_train_x.transpose(0,2,1)\n",
    "res_test_x= res_test_x.transpose(0,2,1)\n",
    "\n",
    "\n",
    "\n",
    "\n",
    "data = {'train':{'x':res_train_x,\n",
    "          'y':res_train_y},\n",
    " ''\n",
    " 'test':{'x':res_test_x,\n",
    "         'y':res_test_y}\n",
    "}"
   ]
  },
  {
   "cell_type": "code",
   "execution_count": 3,
   "metadata": {},
   "outputs": [],
   "source": [
    "with open('./Data/pre_data.pickle', 'wb') as f:\n",
    "    pickle.dump(data, f, pickle.HIGHEST_PROTOCOL)"
   ]
  }
 ],
 "metadata": {
  "kernelspec": {
   "display_name": "Python 3 (ipykernel)",
   "language": "python",
   "name": "python3"
  },
  "language_info": {
   "codemirror_mode": {
    "name": "ipython",
    "version": 3
   },
   "file_extension": ".py",
   "mimetype": "text/x-python",
   "name": "python",
   "nbconvert_exporter": "python",
   "pygments_lexer": "ipython3",
   "version": "3.8.10"
  },
  "vscode": {
   "interpreter": {
    "hash": "916dbcbb3f70747c44a77c7bcd40155683ae19c65e1c03b4aa3499c5328201f1"
   }
  }
 },
 "nbformat": 4,
 "nbformat_minor": 4
}
