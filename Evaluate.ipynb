{
 "cells": [
  {
   "cell_type": "code",
   "execution_count": 3,
   "id": "3f1a5447-91f8-435f-9054-42f9a4c7a85d",
   "metadata": {},
   "outputs": [],
   "source": [
    "import os \n",
    "import warnings \n",
    "warnings.filterwarnings('ignore')\n",
    "from glob import glob \n",
    "from tqdm import tqdm \n",
    "import pickle \n",
    "import time \n",
    "\n",
    "import pandas as pd \n",
    "import numpy as np \n",
    "from sklearn.metrics import precision_recall_fscore_support\n",
    "from sklearn.metrics import accuracy_score,roc_curve,auc\n",
    "\n",
    "import torch \n",
    "import torch.nn as nn  \n",
    "from torch import Tensor\n",
    "from torch.utils.data import Dataset,DataLoader \n",
    "from torch import optim \n",
    "\n",
    "from src.model import Discriminator,Generator,weights_init\n",
    "from src.Dataset import SwatDataset\n",
    "from src.Options import OPT"
   ]
  },
  {
   "cell_type": "code",
   "execution_count": 4,
   "id": "6bf77dc5-c630-42f9-8ba4-ae5d85466bdb",
   "metadata": {},
   "outputs": [],
   "source": [
    "with open('./Data/pre_data.pickle','rb') as f:\n",
    "    data = pickle.load(f)\n",
    "opt = OPT()\n",
    "\n",
    "train_set = SwatDataset(data,'train')\n",
    "test_set = SwatDataset(data,'test')\n",
    "train_loader = DataLoader(train_set,batch_size=opt.batchsize,shuffle=True)\n",
    "test_loader = DataLoader(test_set,batch_size=opt.batchsize,shuffle=True)"
   ]
  },
  {
   "cell_type": "code",
   "execution_count": 7,
   "id": "06ca30fe-5404-41fc-af5b-aa46f0a17947",
   "metadata": {},
   "outputs": [],
   "source": [
    "def update_netd(batch_x):\n",
    "    D.zero_grad()\n",
    "    # Train with real \n",
    "    out_d_real, feat_real = D(batch_x)\n",
    "\n",
    "    # Train with fake \n",
    "    fake, latent_i = G(batch_x)\n",
    "    out_d_fake, feat_fake = D(fake)\n",
    "\n",
    "    err_d_real =  bce_criterion(\n",
    "                                out_d_real.type(torch.float64), \n",
    "                                torch.full((opt.batchsize,),  real_label).type(torch.float64).to(device)\n",
    "                                )\n",
    "    err_d_fake =  bce_criterion(\n",
    "                                out_d_fake.type(torch.float64), \n",
    "                                torch.full((opt.batchsize,),  fake_label).type(torch.float64).to(device)\n",
    "                                )\n",
    "\n",
    "    err_d = err_d_real + err_d_fake\n",
    "    err_d.backward()\n",
    "    optimizerD.step()\n",
    "    return err_d_real,err_d_fake\n",
    "\n",
    "def update_netg(batch_x):\n",
    "    G.zero_grad()\n",
    "    fake,latent_i = G(batch_x)\n",
    "    out_g,feat_fake = D(fake)\n",
    "    _,feat_real = D(batch_x)\n",
    "\n",
    "    err_g_adv = mse_criterion(feat_fake,feat_real)\n",
    "    err_g_rec = mse_criterion(fake,batch_x)\n",
    "\n",
    "    err_g = err_g_rec + err_g_adv * opt.w_adv\n",
    "    err_g.backward()\n",
    "    optimizerG.step()\n",
    "    return err_g_rec,err_g_adv\n",
    "    \n",
    "def reinitialize_netd():\n",
    "        \"\"\" Initialize the weights of netD\n",
    "        \"\"\"\n",
    "        D.apply(weights_init)\n",
    "        print('Reloading d net')       \n",
    "        \n",
    "def optimize(batch_x):\n",
    "    err_d_real,err_d_fake = update_netd(batch_x)\n",
    "    err_g_rec,err_g_adv = update_netg(batch_x)\n",
    "    \n",
    "    err_d = err_d_real.item() + err_d_fake.item() \n",
    "    err_g = err_g_rec.item() + err_g_adv.item()\n",
    "    \n",
    "    errors = {'err_d':err_d,\n",
    "                    'err_g': err_g,\n",
    "                    'err_d_real': err_d_real.item(),\n",
    "                    'err_d_fake': err_d_fake.item(),\n",
    "                    'err_g_adv': err_g_adv.item(),\n",
    "                    'err_g_rec': err_g_rec.item(),\n",
    "                  }\n",
    "    \n",
    "    if err_d < 5e-6:\n",
    "        reinitialize_netd()\n",
    "    return  errors           \n",
    "\n",
    "def train_epoch(dataloader):\n",
    "    global total_steps\n",
    "    G.train()\n",
    "    D.train()\n",
    "    epoch_iter = 0 \n",
    "    for batch_x,batch_y in dataloader:\n",
    "        total_steps += opt.batchsize \n",
    "        epoch_iter +=1 \n",
    "        \n",
    "        batch_x,batch_y = batch_x.type(torch.float32).to(device),batch_y.type(torch.float32).to(device)\n",
    "        \n",
    "        errors = optimize(batch_x)\n",
    "        \n",
    "        if (epoch_iter % 1000) == 0:\n",
    "            print(f\"\\n Epoch : {cur_epoch} | [{epoch_iter}/{dataloader.__len__()}]\" )\n",
    "            print(f\"\\n D_loss(R/F) : {errors['err_d_real']:.4f}/{errors['err_d_fake']:.4f}, G_loss : {errors['err_g']:.4f}\")\n",
    "\n",
    "    \n",
    "##predict \n",
    "def predict(dataloader,scale=True):\n",
    "    G.eval()\n",
    "    D.eval()\n",
    "    with torch.no_grad():\n",
    "\n",
    "        an_scores = torch.zeros(size=(len(dataloader.dataset),), dtype=torch.float32, device= device)\n",
    "        gt_labels = torch.zeros(size=(len(dataloader.dataset),), dtype=torch.long,    device= device)\n",
    "        dis_feat = torch.zeros(size=(len(dataloader.dataset),  opt.ndf*16*10), dtype=torch.float32,device= device)\n",
    "\n",
    "\n",
    "        for i, (batch_x,batch_y) in enumerate(dataloader):\n",
    "            batch_x,batch_y = batch_x.type(torch.float32).to(device),batch_y.type(torch.float32).to(device)\n",
    "            fake, latent_i =  G(batch_x)\n",
    "            # error = torch.mean(torch.pow((d_feat.view( input.shape[0],-1)-d_gen_feat.view( input.shape[0],-1)), 2), dim=1)\n",
    "            #\n",
    "            error = torch.mean(\n",
    "                torch.pow(( batch_x.view( batch_x.shape[0], -1) -  fake.view( fake.shape[0], -1)), 2),\n",
    "                dim=1) # reconstruction loss \n",
    "\n",
    "\n",
    "            gt_labels[i* opt.batchsize : i* opt.batchsize+error.size(0)] =  torch.max(batch_y,dim=1).values.reshape(error.size(0)) #y \n",
    "            an_scores[i* opt.batchsize : i* opt.batchsize+error.size(0)] = error.reshape(error.size(0)) #y_pred\n",
    "            \n",
    "        # Scale error vector between [0, 1]\n",
    "        if scale:\n",
    "             an_scores = (an_scores - torch.min(an_scores)) / (torch.max(an_scores) - torch.min(an_scores))\n",
    "\n",
    "        y_= gt_labels.detach().cpu().numpy()\n",
    "        y_pred = an_scores.detach().cpu().numpy()\n",
    "\n",
    "        return y_,y_pred\n",
    "def evaluate(train_loader,test_loader):\n",
    "    test_y,test_y_pred = predict(test_loader)\n",
    "    train_y,train_y_pred = predict(train_loader)\n",
    "    #thres = np.percentile(np.concatenate([test_y_pred,train_y_pred]),10)\n",
    "    thres = 0.02 \n",
    "    \n",
    "    y_pred_thres = pd.Series(test_y_pred).apply(lambda x : 1 if x > thres else 0).values\n",
    "    #auc = accuracy_score(y,y_pred)\n",
    "    precision, recall, f_score, support = precision_recall_fscore_support(test_y, y_pred_thres,\n",
    "                                                                                average='binary')\n",
    "    fpr,tpr,thr = roc_curve(test_y,test_y_pred)\n",
    "    auroc = auc(fpr,tpr)\n",
    "    \n",
    "    return precision, recall, f_score, auroc     \n",
    "\n",
    "def validate(dataloader,thres):\n",
    "    y_,y_pred = predict(dataloader)\n",
    "    precision, recall, f_score, auroc = evaluate(y_,y_pred,thres)\n",
    "    return precision, recall, f_score, auroc \n",
    "        "
   ]
  },
  {
   "cell_type": "code",
   "execution_count": 8,
   "id": "96345d06-41c2-436c-93c1-cb65f89baf7d",
   "metadata": {},
   "outputs": [],
   "source": [
    "#def model_load():\n",
    "device = 'cuda:1'\n",
    "D = torch.load('./save_models/D.pt').to(device)\n",
    "G = torch.load('./save_models/G.pt').to(device)"
   ]
  },
  {
   "cell_type": "code",
   "execution_count": 9,
   "id": "b42c246c-721f-4718-a949-3289807f0dc8",
   "metadata": {},
   "outputs": [],
   "source": [
    "test_y,test_y_pred = predict(test_loader)\n",
    "train_y,train_y_pred = predict(train_loader)"
   ]
  },
  {
   "cell_type": "code",
   "execution_count": 34,
   "id": "893d86f1-73c1-4d71-856b-97810c9b5d2c",
   "metadata": {},
   "outputs": [],
   "source": []
  },
  {
   "cell_type": "code",
   "execution_count": 43,
   "id": "7402e156-4875-4e25-beae-8a1b8423d3a9",
   "metadata": {},
   "outputs": [],
   "source": []
  },
  {
   "cell_type": "code",
   "execution_count": 75,
   "id": "32c1e659-964e-4e7e-9e4f-2e90f0ba987d",
   "metadata": {},
   "outputs": [],
   "source": [
    "precision, recall, f_score, auroc = evaluate(train_loader,test_loader)"
   ]
  },
  {
   "cell_type": "code",
   "execution_count": 77,
   "id": "238d4fb7-ad57-45ae-b91e-4b8ed3b9c6e3",
   "metadata": {},
   "outputs": [
    {
     "name": "stdout",
     "output_type": "stream",
     "text": [
      "0.24492360310792222 0.9996661811119204 0.39344986771933804 0.677720344550622\n"
     ]
    }
   ],
   "source": [
    "print(precision, recall, f_score, auroc)"
   ]
  },
  {
   "cell_type": "code",
   "execution_count": 73,
   "id": "cc8622d1-95be-43d8-8dc1-3fd8af884490",
   "metadata": {},
   "outputs": [
    {
     "data": {
      "text/plain": [
       "<matplotlib.lines.Line2D at 0x7fcd591091f0>"
      ]
     },
     "execution_count": 73,
     "metadata": {},
     "output_type": "execute_result"
    },
    {
     "data": {
      "image/png": "[encoded data removed]",
      "text/plain": [
       "<Figure size 640x480 with 1 Axes>"
      ]
     },
     "metadata": {},
     "output_type": "display_data"
    }
   ],
   "source": [
    "thres = np.percentile(np.concatenate([test_y_pred,train_y_pred]),10)\n",
    "plt.hist(temp,bins=100)\n",
    "plt.axvline(thres,color='r')"
   ]
  },
  {
   "cell_type": "code",
   "execution_count": 63,
   "id": "60f5760c-b969-42da-bfcb-2deff55fa8bb",
   "metadata": {},
   "outputs": [
    {
     "data": {
      "text/plain": [
       "0.00918879546225071"
      ]
     },
     "execution_count": 63,
     "metadata": {},
     "output_type": "execute_result"
    }
   ],
   "source": [
    "\n"
   ]
  }
 ],
 "metadata": {
  "kernelspec": {
   "display_name": "Python 3 (ipykernel)",
   "language": "python",
   "name": "python3"
  },
  "language_info": {
   "codemirror_mode": {
    "name": "ipython",
    "version": 3
   },
   "file_extension": ".py",
   "mimetype": "text/x-python",
   "name": "python",
   "nbconvert_exporter": "python",
   "pygments_lexer": "ipython3",
   "version": "3.8.10"
  }
 },
 "nbformat": 4,
 "nbformat_minor": 5
}
